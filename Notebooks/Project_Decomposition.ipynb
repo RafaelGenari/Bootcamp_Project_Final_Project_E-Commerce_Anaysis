{
 "cells": [
  {
   "cell_type": "markdown",
   "metadata": {},
   "source": [
    "# Organização Projeto Final - Melhora das vendas E-Commerce\n",
    "\n",
    "O projeto será dividido nas seguintes partes:\n",
    "\n",
    " - Decomposição\n",
    "    - Planejamento das ações a serem executadas durante o projeto, bem como estudo referente a segmentação de clientes e a melhor abordagem (nesta visão inicial) a ser seguida:\n",
    "        - Verificação dos dados:\n",
    "            - Para a fase inicial serão verificados os dados existentes de um modo geral, onde será analisado se todos os campos estão preenchidos, se existem valores nulos/ausentes, perceber e entender os tipos de colunas que temos inicialmente.\n",
    "            - Além disso, por meio dessa análise inicial conseguiremos entender o que fazer com os valores nulos/ausentes se serão substituídos por algum valor, por média/mediana quando apropriado ou se será deixado como \"NaN\" por exemplo.\n",
    "            - Quanto as colunas, se necessário serão feito ajustes para os tipos corretos, como por exemplo datas em formato de datetime ou ID's como str, para que no decorrer da análise não tenhamos nenhuma dificuldade quanto a isso.\n",
    "        - EDA:\n",
    "            - Tendo todos os dados ajustados, corrigidos e limpos, partiremos para a análise exploratória para conseguir entender melhor o negócio e os resultados atuais que estão a ter e com isso conseguir, em uma visão inicial, tentar ter alguma ideia de como poderão ser melhorada as vendas do E-Commerce. O objetivo é descobrir padrões e tendências que possam impactar as vendas.\n",
    "            - Aqui também poderá ser analisado pontos como a retenção de clientes, o LTV, a taxa de conversão de vendas, o ticket médio (também mínimo e máximo), análise das compras existentes e frequência destas, as categoria de produtos e origem do cliente. \n",
    " - Teste A/B\n",
    "    - Neste passo será levantar hipóteses e realizar um teste A/B para validar o impacto de diferentes estratégias para tomada de decisão baseada em dados.\n",
    " - Livros SQL\n",
    "    - Será feita uma análise em SQL das tabelas indicadas para responder perguntas específicas\n",
    " - Segmentação\n",
    "    - Tendo o planejamento e dados ajustados, será aqui em que faremos a análise de grupos para conseguir entender melhor os resultados e conseguir criar uma abordagem que irá ajudar a alavancar as vendas do E-Commerce"
   ]
  },
  {
   "cell_type": "markdown",
   "metadata": {},
   "source": []
  }
 ],
 "metadata": {
  "language_info": {
   "name": "python"
  }
 },
 "nbformat": 4,
 "nbformat_minor": 2
}
